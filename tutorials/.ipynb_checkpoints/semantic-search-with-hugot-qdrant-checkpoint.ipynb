{
 "cells": [
  {
   "cell_type": "markdown",
   "metadata": {},
   "source": [
    "# Semantic search with Qdrant and Hugot: a tutorial"
   ]
  },
  {
   "cell_type": "markdown",
   "metadata": {},
   "source": [
    "Hello! In this tutorial we will show how one can quickly and easily setup semantic search with Hugot and Qdrant. The goal is to showcase how easy it is to enhance your golang applications with semantic search using Hugot!\n",
    "\n",
    "First, note that this is a jupyter notebook with golang code. You can run this notebook yourself on your machine using [https://github.com/janpfeifer/gonb](goNB). The steps to be able to do this are:\n",
    "\n",
    "1. Install [https://github.com/janpfeifer/gonb](goNB) on your machine/docker container. It's easy! You should just be able to do:\n",
    "\n",
    "```\n",
    "go install github.com/janpfeifer/gonb@latest && \\\n",
    "  go install golang.org/x/tools/cmd/goimports@latest && \\\n",
    "  go install golang.org/x/tools/gopls@latest &&\n",
    "```\n",
    "\n",
    "And then make sure $GOBIN (where `install` puts binaries) is in your path and do `gonb --install`, that's it.\n",
    "\n",
    "2. Install jupyterlab. If you don't have python you can just use the following bash command to install what you need:\n",
    "\n",
    "```\n",
    "mkdir -p ~/miniconda3 && \\\n",
    "wget https://repo.anaconda.com/miniconda/Miniconda3-latest-Linux-x86_64.sh -O ~/miniconda3/miniconda.sh && \\\n",
    "bash ~/miniconda3/miniconda.sh -b -u -p ~/miniconda3 && \\\n",
    "rm -rf ~/miniconda3/miniconda.sh\n",
    "```\n",
    "\n",
    "and then:\n",
    "\n",
    "```\n",
    "~/miniconda3/bin/conda init\n",
    "pip install jupyterlab\n",
    "```\n",
    "\n",
    "and finally `jupyter lab --ip 0.0.0.0 --no-browser --allow-root --NotebookApp.token=''` from the directory with this notebook to start jupyterlab without asking for a token. Navigating to localhost:8888 should now show the jupyterlab window with this notebook, and `Go (gonb)` should appear as a kernel to run this code. Note that if you are running this inside a docker container, you should expose port 8888 to the host."
   ]
  },
  {
   "cell_type": "code",
   "execution_count": 1,
   "metadata": {},
   "outputs": [],
   "source": [
    "import hf \"github.com/bodaay/HuggingFaceModelDownloader/hfdownloader\""
   ]
  },
  {
   "cell_type": "code",
   "execution_count": 7,
   "metadata": {},
   "outputs": [
    {
     "name": "stdout",
     "output_type": "stream",
     "text": [
      "\n",
      "Getting File Download Files List Tree from: https://huggingface.co/api/datasets/lewtun/github-issues/tree/main/\n",
      "Checking file size matching: lewtun_github-issues/.gitattributes\n",
      "Checking file size matching: lewtun_github-issues/README.md\n",
      "Start Downloading: lewtun_github-issues/datasets-issues-with-comments.jsonl\n",
      "\n",
      "\n",
      "Merging lewtun_github-issues/datasets-issues-with-comments.jsonl Chunks\n",
      "Finished Downloading: lewtun_github-issues/datasets-issues-with-comments.jsonl\n",
      "Checking SHA256 Hash for LFS file: lewtun_github-issues/datasets-issues-with-comments.jsonl\n",
      "Hash Matched for LFS file: lewtun_github-issues/datasets-issues-with-comments.jsonl"
     ]
    }
   ],
   "source": [
    "%%\n",
    "hf.DownloadModel(\"lewtun/github-issues\", false, false, true, \".\", \"main\", 4, \"\", true)"
   ]
  },
  {
   "cell_type": "code",
   "execution_count": 1,
   "metadata": {},
   "outputs": [],
   "source": [
    "func CheckError(err error) {\n",
    "    if err != nil {\n",
    "        panic(err)\n",
    "    }\n",
    "}"
   ]
  },
  {
   "cell_type": "code",
   "execution_count": 2,
   "metadata": {},
   "outputs": [],
   "source": [
    "type Issue struct {\n",
    "    IsPullRequest bool `json:\"is_pull_request\"`\n",
    "    Title string `json:\"title\"`\n",
    "    Body string `json:\"body\"`\n",
    "    Comments []string `json:\"comments\"`\n",
    "    HtmlUrl string `json:\"html_url\"`\n",
    "}"
   ]
  },
  {
   "cell_type": "code",
   "execution_count": 3,
   "metadata": {},
   "outputs": [
    {
     "name": "stdout",
     "output_type": "stream",
     "text": [
      "There is a speed up in Windows machines:\n",
      "- From `13m 52s` to `11m 10s`\n",
      "\n",
      "In Linux machines, some workers crash with error message:\n",
      "```\n",
      "OSError: [Errno 12] Cannot allocate memory\n",
      "```\n",
      "There is also a speed up in Linux machines:\n",
      "- From `7m 30s` to `5m 32s`\n",
      "@lhoestq Let me make sure we never need it, and if not then I'll remove it entirely in a follow-up PR.\n",
      "Thanks ;) it will be less confusing and easier to maintain to not keep unused hacky features\n"
     ]
    }
   ],
   "source": [
    "%%\n",
    "f, err := os.Open(\"./lewtun_github-issues/datasets-issues-with-comments.jsonl\")\n",
    "CheckError(err)\n",
    "defer f.Close()\n",
    "scanner := bufio.NewScanner(f)\n",
    "var counter int\n",
    "for scanner.Scan() {\n",
    "    var issue Issue\n",
    "    json.Unmarshal(scanner.Bytes(), &issue)\n",
    "\n",
    "    for _, comment := range issue.Comments {\n",
    "        fmt.Println(comment)\n",
    "    }\n",
    "    counter++\n",
    "    if counter > 5 {\n",
    "        break\n",
    "    }\n",
    "}"
   ]
  },
  {
   "cell_type": "code",
   "execution_count": null,
   "metadata": {},
   "outputs": [],
   "source": []
  }
 ],
 "metadata": {
  "kernelspec": {
   "display_name": "Go (gonb)",
   "language": "go",
   "name": "gonb"
  },
  "language_info": {
   "codemirror_mode": "",
   "file_extension": ".go",
   "mimetype": "",
   "name": "go",
   "nbconvert_exporter": "",
   "pygments_lexer": "",
   "version": "go1.22.2"
  }
 },
 "nbformat": 4,
 "nbformat_minor": 4
}
